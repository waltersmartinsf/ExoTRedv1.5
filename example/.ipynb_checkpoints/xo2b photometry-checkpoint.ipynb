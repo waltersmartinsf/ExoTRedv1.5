{
 "cells": [
  {
   "cell_type": "markdown",
   "metadata": {},
   "source": [
    "Aperture photometry of the exoplanet XO2b observation in the filter B Harris.\n",
    "Data from Zellem et al.(2015): http://arxiv.org/abs/1505.01063\n",
    "\n",
    "WARNING\n",
    "\n",
    "You have to put your login.cl in the directory where you would like to run this script or a similar."
   ]
  },
  {
   "cell_type": "code",
   "execution_count": 1,
   "metadata": {
    "collapsed": false
   },
   "outputs": [
    {
     "name": "stdout",
     "output_type": "stream",
     "text": [
      "\n",
      "\n",
      "      +------------------------------------------------------------+\n",
      "      |       Space Telescope Science Data Analysis System         |    \n",
      "      |                   STSDAS Version 3.17                      |\n",
      "      |                                                            |\n",
      "      |   Space Telescope Science Institute, Baltimore, Maryland   |\n",
      "      |   Copyright (C) 2014 Association of Universities for       |\n",
      "      |            Research in Astronomy, Inc.(AURA)               |\n",
      "      |       See stsdas$copyright.stsdas for terms of use.        |\n",
      "      |         For help, send e-mail to help@stsci.edu            |\n",
      "      |                                                            |\n",
      "      +------------------------------------------------------------+\n",
      "stsdas/:\n",
      " analysis/      examples        hst_calib/      sobsolete/\n",
      " contrib/       fitsio/         playpen/        toolbox/\n",
      " describe       graphics/       problems\n",
      "imred/:\n",
      " argus/         ctioslit/       hydra/          kpnocoude/      vtel/\n",
      " bias/          dtoi/           iids/           kpnoslit/\n",
      " ccdred/        echelle/        irred/          quadred/\n",
      " crutil/        generic/        irs/            specred/\n",
      "ccdred/:\n",
      " badpiximage    ccdlist         combine         mkillumcor      setinstrument\n",
      " ccdgroups      ccdmask         darkcombine     mkillumflat     zerocombine\n",
      " ccdhedit       ccdproc         flatcombine     mkskycor\n",
      " ccdinstrument  ccdtest         mkfringecor     mkskyflat\n",
      "crutil/:\n",
      " cosmicrays     crcombine       crfix           crmedian\n",
      " craverage      credit          crgrow          crnebula\n"
     ]
    }
   ],
   "source": [
    "#under astroconda envs\n",
    "import exotred #import the package"
   ]
  },
  {
   "cell_type": "code",
   "execution_count": 2,
   "metadata": {
    "collapsed": false
   },
   "outputs": [
    {
     "name": "stdout",
     "output_type": "stream",
     "text": [
      "Obtain the information in the YAML file:\n",
      "reading input file ... \n",
      "\n",
      "....  done! \n",
      "\n"
     ]
    }
   ],
   "source": [
    "print 'Obtain the information in the YAML file:'\n",
    "data_path, save_path, input_file = exotred.input_info('../input/') #include the YAML information"
   ]
  },
  {
   "cell_type": "code",
   "execution_count": 3,
   "metadata": {
    "collapsed": false
   },
   "outputs": [
    {
     "name": "stdout",
     "output_type": "stream",
     "text": [
      "/home/walter/github/ExoTRed/example/rawdata\n"
     ]
    }
   ],
   "source": [
    "print data_path"
   ]
  },
  {
   "cell_type": "code",
   "execution_count": 4,
   "metadata": {
    "collapsed": false
   },
   "outputs": [
    {
     "name": "stdout",
     "output_type": "stream",
     "text": [
      "/home/walter/github/ExoTRed/example/workdata\n"
     ]
    }
   ],
   "source": [
    "print save_path"
   ]
  },
  {
   "cell_type": "code",
   "execution_count": 5,
   "metadata": {
    "collapsed": false
   },
   "outputs": [
    {
     "data": {
      "text/plain": [
       "{'DEC': '+50:13:32.9',\n",
       " 'RA': '07:48:06.46',\n",
       " 'altitude': 2510.0,\n",
       " 'apertures': [7, 14],\n",
       " 'circular_orbit': False,\n",
       " 'data_path': '/home/walter/github/ExoTRed/example/rawdata',\n",
       " 'date-obs': 'DATE-OBS',\n",
       " 'epoch': '2000.0',\n",
       " 'exoplanet': 'xo2b',\n",
       " 'frame': 'fk5',\n",
       " 'gain': 3.19,\n",
       " 'lat-obs': 32.4164722222,\n",
       " 'lon-obs': -110.734527778,\n",
       " 'observatory': 'mtbigelow',\n",
       " 'pxpositions': [582.79, 581.76, 559.06, 512.4],\n",
       " 'save_path': '/home/walter/github/ExoTRed/example/workdata',\n",
       " 'scale-time': 'utc',\n",
       " 'skysection': [526, 81],\n",
       " 'time': 'ut',\n",
       " 'time-obs': 'UT',\n",
       " 'time_zone': 7.0,\n",
       " 'u.DEC': 'degree',\n",
       " 'u.RA': 'degree'}"
      ]
     },
     "execution_count": 5,
     "metadata": {},
     "output_type": "execute_result"
    }
   ],
   "source": [
    "input_file"
   ]
  },
  {
   "cell_type": "code",
   "execution_count": 7,
   "metadata": {
    "collapsed": false
   },
   "outputs": [
    {
     "name": "stdout",
     "output_type": "stream",
     "text": [
      "Obtain the sky background information for each image: \n",
      "Obtain background data for each image ... \n",
      "\n",
      "Does not exist all files to all images in the sample.\n",
      "Calculating ...\n",
      "This will take some time... go drink some coffe\n",
      " while you wait for the routine finish \n",
      "\n",
      "Percent: [##########] 100% Done...\n",
      "Sky backgound obtained.\n",
      "Total time =  1.51425039768  minutes\n"
     ]
    }
   ],
   "source": [
    "print 'Obtain the sky background information for each image: '\n",
    "exotred.bkg_info(input_file)"
   ]
  },
  {
   "cell_type": "code",
   "execution_count": 8,
   "metadata": {
    "collapsed": false
   },
   "outputs": [
    {
     "name": "stdout",
     "output_type": "stream",
     "text": [
      "Loading sky background data: \n",
      "Reading sky backgound files ...\n",
      "Percent: [##########] 100% Done...\n",
      "total time =  0.444900850455  minutes\n"
     ]
    }
   ],
   "source": [
    "print 'Loading sky background data: '\n",
    "bkg_data, bkg_rms = exotred.bkg_read(input_file)"
   ]
  },
  {
   "cell_type": "code",
   "execution_count": 9,
   "metadata": {
    "collapsed": false
   },
   "outputs": [
    {
     "name": "stdout",
     "output_type": "stream",
     "text": [
      "Making the aperture photometry: \n",
      "Starting aperture photometry\n",
      "Saving results on: /home/walter/github/ExoTRed/example/workdata/phot_results/\n",
      "Number of objects =  2.0\n",
      "Radius from  7.0  to  13.9 \n",
      "\n",
      "Percent: [##########] 100% Done...\n",
      "Time total =  0.47883951664  minutes\n"
     ]
    }
   ],
   "source": [
    "print 'Making the aperture photometry: '\n",
    "exotred.phot_aperture(input_file,bkg_data,bkg_rms)"
   ]
  },
  {
   "cell_type": "code",
   "execution_count": 10,
   "metadata": {
    "collapsed": false
   },
   "outputs": [
    {
     "name": "stdout",
     "output_type": "stream",
     "text": [
      "Reading the results of the aperture photometry: \n",
      "Reading xo2b*.csv files ....\n",
      "Percent: [##########] 100% Done...\n",
      "... done!\n",
      "The smallest scatter is: /home/walter/github/ExoTRed/example/workdata/phot_results/xo2b_flux_radius_13.9.csv\n",
      "Which is file: /home/walter/github/ExoTRed/example/workdata/phot_results/xo2b_flux_radius_13.9.csv\n",
      "Working @/home/walter/github/ExoTRed/example/workdata/phot_results/xo2b_flux_radius_13.9.csv that is the min scatter\n",
      "... Read /home/walter/github/ExoTRed/example/workdata/phot_results/xo2b_flux_radius_13.9.csv ...\n",
      "... done.\n"
     ]
    }
   ],
   "source": [
    "print 'Reading the results of the aperture photometry: '\n",
    "rawflux, eflux, hjd, airmass =  exotred.phot_readData(input_file)"
   ]
  },
  {
   "cell_type": "code",
   "execution_count": 11,
   "metadata": {
    "collapsed": false
   },
   "outputs": [
    {
     "name": "stdout",
     "output_type": "stream",
     "text": [
      "Make a beautifull plot: \n"
     ]
    },
    {
     "data": {
      "image/png": "[encoded data removed]",
      "text/plain": [
       "<matplotlib.figure.Figure at 0x7efd8733f690>"
      ]
     },
     "metadata": {},
     "output_type": "display_data"
    }
   ],
   "source": [
    "print 'Make a beautifull plot: '\n",
    "\n",
    "\n",
    "%matplotlib inline\n",
    "from matplotlib.gridspec import GridSpec\n",
    "import matplotlib.pyplot as plt #plot library\n",
    "import numpy as np\n",
    "def init_plotting():\n",
    "    \"\"\"\n",
    "    Funcao para definir uma janela grafica com parametros customizados para aptresentacoes em ppt ou latex.\n",
    "    \"\"\"\n",
    "    plt.rcParams['figure.figsize'] = (14.0,8.0)\n",
    "    plt.rcParams['font.size'] = 20\n",
    "    #plt.rcParams['font.family'] = 'Times New Roman'\n",
    "    plt.rcParams['axes.labelsize'] = plt.rcParams['font.size']\n",
    "    plt.rcParams['axes.titlesize'] = 0.75*plt.rcParams['font.size']\n",
    "    plt.rcParams['legend.fontsize'] = 0.65*plt.rcParams['font.size']\n",
    "    plt.rcParams['xtick.labelsize'] = plt.rcParams['font.size']\n",
    "    plt.rcParams['ytick.labelsize'] = plt.rcParams['font.size']\n",
    "    plt.rcParams['xtick.major.size'] = 3\n",
    "    plt.rcParams['xtick.minor.size'] = 3\n",
    "    plt.rcParams['xtick.major.width'] = 1\n",
    "    plt.rcParams['xtick.minor.width'] = 1\n",
    "    plt.rcParams['ytick.major.size'] = 3\n",
    "    plt.rcParams['ytick.minor.size'] = 3\n",
    "    plt.rcParams['ytick.major.width'] = 1\n",
    "    plt.rcParams['ytick.minor.width'] = 1\n",
    "    plt.rcParams['legend.frameon'] = True\n",
    "    plt.rcParams['legend.loc'] = 'best'\n",
    "    plt.rcParams['axes.linewidth'] = 1\n",
    "\n",
    "init_plotting()\n",
    "\n",
    "\n",
    "f = plt.figure()\n",
    "plt.suptitle(input_file['exoplanet']+\" - rawdata\")\n",
    "gs1 = GridSpec(2, 2, width_ratios=[1,2],height_ratios=[4,1])\n",
    "gs1.update(wspace=0.5)\n",
    "ax1 = plt.subplot(gs1[:-1, :])\n",
    "ax2 = plt.subplot(gs1[-1, :])\n",
    "ax1.grid()\n",
    "ax1.errorbar(hjd,rawflux,yerr=eflux,ecolor='g')\n",
    "ax1.set_xticklabels([])\n",
    "ax1.set_ylabel('Relative Flux')\n",
    "ax2.grid()\n",
    "ax2.plot(hjd,airmass,color='green')\n",
    "plt.yticks(np.array([airmass.min(), (airmass.min()+airmass.max())/2., airmass.max()]))\n",
    "ax2.set_xlabel('JD')\n",
    "ax2.set_ylabel('airmass')\n",
    "plt.savefig('raw_data_example.png')"
   ]
  },
  {
   "cell_type": "code",
   "execution_count": null,
   "metadata": {
    "collapsed": true
   },
   "outputs": [],
   "source": []
  }
 ],
 "metadata": {
  "kernelspec": {
   "display_name": "Python 2",
   "language": "python",
   "name": "python2"
  },
  "language_info": {
   "codemirror_mode": {
    "name": "ipython",
    "version": 2
   },
   "file_extension": ".py",
   "mimetype": "text/x-python",
   "name": "python",
   "nbconvert_exporter": "python",
   "pygments_lexer": "ipython2",
   "version": "2.7.11"
  }
 },
 "nbformat": 4,
 "nbformat_minor": 0
}
